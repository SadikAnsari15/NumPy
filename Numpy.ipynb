{
 "cells": [
  {
   "cell_type": "markdown",
   "id": "c167b252",
   "metadata": {},
   "source": [
    "NumPy (Numerical Python) is a fundamental package in Python for numerical computations. It provides support for working with arrays, matrices, and various mathematical functions that are essential for scientific and data analysis tasks. NumPy forms the foundation for many other scientific computing libraries in the Python ecosystem."
   ]
  },
  {
   "cell_type": "markdown",
   "id": "dc3beaf9",
   "metadata": {},
   "source": [
    "## importing library"
   ]
  },
  {
   "cell_type": "code",
   "execution_count": 1,
   "id": "870ac1eb",
   "metadata": {},
   "outputs": [],
   "source": [
    "import numpy as np"
   ]
  },
  {
   "cell_type": "markdown",
   "id": "68d447c4",
   "metadata": {},
   "source": [
    "# Creating a NumPy array"
   ]
  },
  {
   "cell_type": "code",
   "execution_count": 2,
   "id": "992280df",
   "metadata": {},
   "outputs": [
    {
     "name": "stdout",
     "output_type": "stream",
     "text": [
      "[1 2 3 4 5 6]\n",
      "[10 11 12 13 14 15 16 17 18 19 20]\n",
      "[0.   0.25 0.5  0.75 1.  ]\n"
     ]
    }
   ],
   "source": [
    "arr1 = np.array([1,2,3,4,5,6])\n",
    "print(arr1)\n",
    "arr2 = np.arange(10, 21)\n",
    "print(arr2)\n",
    "arr3 = np.linspace(0,1,5)\n",
    "print(arr3)"
   ]
  },
  {
   "cell_type": "markdown",
   "id": "17ad2af0",
   "metadata": {},
   "source": [
    "# Indexing and Slicing"
   ]
  },
  {
   "cell_type": "code",
   "execution_count": 3,
   "id": "0af6f3d0",
   "metadata": {},
   "outputs": [
    {
     "name": "stdout",
     "output_type": "stream",
     "text": [
      "3\n",
      "[4 5 6]\n",
      "[13 14 15]\n"
     ]
    }
   ],
   "source": [
    "arr1 = np.array([1,2,3,4,5,6])\n",
    "arr2 = np.arange(10, 21)\n",
    "print(arr1[2])\n",
    "print(arr1[3:6])\n",
    "print(arr2[3:6])"
   ]
  },
  {
   "cell_type": "markdown",
   "id": "5a272d49",
   "metadata": {},
   "source": [
    "# Array operations"
   ]
  },
  {
   "cell_type": "code",
   "execution_count": 4,
   "id": "681d0385",
   "metadata": {},
   "outputs": [
    {
     "name": "stdout",
     "output_type": "stream",
     "text": [
      "(5,)\n",
      "(5,)\n",
      "[12 14 16 18 20]\n"
     ]
    }
   ],
   "source": [
    "arr1 = np.array([1,2,3,4,5])\n",
    "arr2 = np.array([11,12,13,14,15])\n",
    "print(arr1.shape)\n",
    "print(arr2.shape)\n",
    "arr = arr1 + arr2\n",
    "print(arr)"
   ]
  },
  {
   "cell_type": "markdown",
   "id": "4b290437",
   "metadata": {},
   "source": [
    "# Reshaping Arrays"
   ]
  },
  {
   "cell_type": "code",
   "execution_count": 5,
   "id": "96d5318d",
   "metadata": {},
   "outputs": [
    {
     "data": {
      "text/plain": [
       "array([[ 1,  2,  3,  4],\n",
       "       [56,  7,  8,  9]])"
      ]
     },
     "execution_count": 5,
     "metadata": {},
     "output_type": "execute_result"
    }
   ],
   "source": [
    "arr1 = np.array([1,2,3,4,56,7,8,9])\n",
    "reshape = arr1.reshape(2,4)\n",
    "reshape"
   ]
  },
  {
   "cell_type": "markdown",
   "id": "3b91c5ba",
   "metadata": {},
   "source": [
    "# Array Concatenation"
   ]
  },
  {
   "cell_type": "code",
   "execution_count": 6,
   "id": "e53d92a9",
   "metadata": {},
   "outputs": [
    {
     "name": "stdout",
     "output_type": "stream",
     "text": [
      "[ 1  2  3  4  5  6  7  8  9 10]\n"
     ]
    }
   ],
   "source": [
    "arr1 = np.array([1,2,3,4,5])\n",
    "arr2 = np.array([6,7,8,9,10])\n",
    "concatenation = np.concatenate((arr1, arr2))\n",
    "print(concatenation)"
   ]
  },
  {
   "cell_type": "markdown",
   "id": "d6b50eb0",
   "metadata": {},
   "source": [
    "# Aggregating Data"
   ]
  },
  {
   "cell_type": "code",
   "execution_count": 7,
   "id": "b0024228",
   "metadata": {},
   "outputs": [
    {
     "name": "stdout",
     "output_type": "stream",
     "text": [
      "21.25\n"
     ]
    }
   ],
   "source": [
    "arr1 = np.array([1,2,3,4,5,45,67,43])\n",
    "mean_value = np.mean(arr1)\n",
    "print(mean_value)"
   ]
  },
  {
   "cell_type": "markdown",
   "id": "5f15950d",
   "metadata": {},
   "source": [
    "# Filtering Data"
   ]
  },
  {
   "cell_type": "code",
   "execution_count": 8,
   "id": "17557c40",
   "metadata": {},
   "outputs": [
    {
     "name": "stdout",
     "output_type": "stream",
     "text": [
      "[ 48  48 284  48]\n"
     ]
    }
   ],
   "source": [
    "arr1 = np.array([10,20,48,48,284,48,2,6])\n",
    "filtered = arr1[arr1 >20]\n",
    "print(filtered)"
   ]
  },
  {
   "cell_type": "code",
   "execution_count": null,
   "id": "6f54ddbd",
   "metadata": {},
   "outputs": [],
   "source": []
  },
  {
   "cell_type": "markdown",
   "id": "59fe7e84",
   "metadata": {},
   "source": [
    "# Sorting Array"
   ]
  },
  {
   "cell_type": "code",
   "execution_count": 9,
   "id": "af120ed2",
   "metadata": {},
   "outputs": [
    {
     "name": "stdout",
     "output_type": "stream",
     "text": [
      "[  1   2   5  22  33  43  45  56  67 778]\n"
     ]
    }
   ],
   "source": [
    "arr1 = np.array([2,5,22,67,43,778,45,33,56,1])\n",
    "sorted_array = np.sort(arr1)\n",
    "print(sorted_array)"
   ]
  },
  {
   "cell_type": "markdown",
   "id": "c2b73461",
   "metadata": {},
   "source": [
    "# Unique Values"
   ]
  },
  {
   "cell_type": "code",
   "execution_count": 10,
   "id": "b313fce4",
   "metadata": {},
   "outputs": [
    {
     "name": "stdout",
     "output_type": "stream",
     "text": [
      "[  1   2   3   4   5  35  56  75  78 357 532 555]\n",
      "[3 1 2 2 1 1 1 1 1 1 1 1]\n"
     ]
    }
   ],
   "source": [
    "arr1 = np.array([1,1,1,4,5,3,2,4,555,3,56,75,35,78,532,357,])\n",
    "unique_value , unique_count = np.unique(arr1, return_counts=True)\n",
    "print(unique_value)\n",
    "print(unique_count)"
   ]
  },
  {
   "cell_type": "markdown",
   "id": "a4fa4969",
   "metadata": {},
   "source": [
    "# Vectorized Operations"
   ]
  },
  {
   "cell_type": "code",
   "execution_count": 11,
   "id": "799bb09d",
   "metadata": {},
   "outputs": [
    {
     "data": {
      "text/plain": [
       "array([ 2,  4,  6,  8, 10])"
      ]
     },
     "execution_count": 11,
     "metadata": {},
     "output_type": "execute_result"
    }
   ],
   "source": [
    "arr1 = np.array([1,2,3,4,5])\n",
    "myarray = arr1*2\n",
    "myarray"
   ]
  }
 ],
 "metadata": {
  "kernelspec": {
   "display_name": "Python 3 (ipykernel)",
   "language": "python",
   "name": "python3"
  },
  "language_info": {
   "codemirror_mode": {
    "name": "ipython",
    "version": 3
   },
   "file_extension": ".py",
   "mimetype": "text/x-python",
   "name": "python",
   "nbconvert_exporter": "python",
   "pygments_lexer": "ipython3",
   "version": "3.8.8"
  },
  "toc": {
   "base_numbering": 1,
   "nav_menu": {},
   "number_sections": true,
   "sideBar": true,
   "skip_h1_title": false,
   "title_cell": "Table of Contents",
   "title_sidebar": "Contents",
   "toc_cell": false,
   "toc_position": {},
   "toc_section_display": true,
   "toc_window_display": false
  }
 },
 "nbformat": 4,
 "nbformat_minor": 5
}
